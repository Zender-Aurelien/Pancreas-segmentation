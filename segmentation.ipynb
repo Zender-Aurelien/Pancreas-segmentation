{
 "cells": [
  {
   "cell_type": "code",
   "execution_count": 1,
   "id": "31f72a70",
   "metadata": {},
   "outputs": [],
   "source": [
    "#import libraries\n",
    "import os\n",
    "import numpy as np\n",
    "import torch\n",
    "import matplotlib.pyplot as plt\n",
    "from tcia_utils import nbia\n",
    "from monai.bundle import ConfigParser, download\n",
    "from monai.transforms import LoadImaged, Orientationd, EnsureChannelFirstd, Compose, LoadImage\n",
    "from rt_utils import RTStructBuilder\n",
    "from scipy.ndimage import label, measurements\n",
    "import json"
   ]
  },
  {
   "cell_type": "code",
   "execution_count": 2,
   "id": "d3836048",
   "metadata": {},
   "outputs": [],
   "source": [
    "datadir = 'data'"
   ]
  },
  {
   "cell_type": "code",
   "execution_count": 3,
   "id": "a3709506",
   "metadata": {},
   "outputs": [
    {
     "name": "stderr",
     "output_type": "stream",
     "text": [
      "2025-09-07 02:17:13,881:INFO:Success - Token saved to global api_call_headers variable and expires at 2025-09-07 04:17:13.881773\n",
      "2025-09-07 02:17:13,884:INFO:Accessing public data anonymously. To access restricted data use nbia.getToken() with your credentials.\n",
      "2025-09-07 02:17:13,885:INFO:Calling getContentsByName with parameters {'name': 'nbia-56681757219247422'}\n",
      "2025-09-07 02:17:14,643:INFO:Directory 'data' already exists.\n",
      "2025-09-07 02:17:14,644:WARNING:Series 1.3.6.1.4.1.14519.5.2.1.1078.3273.115340717073425311405719328936 already downloaded and unzipped.\n",
      "2025-09-07 02:17:14,645:INFO:Found 1 previously downloaded series.\n",
      "2025-09-07 02:17:14,646:INFO:Attempting to download 0 new series.\n",
      "2025-09-07 02:17:14,647:INFO:Calling getSeriesMetadata2 with parameters {'list': '1.3.6.1.4.1.14519.5.2.1.1078.3273.115340717073425311405719328936'}\n",
      "2025-09-07 02:17:15,380:INFO:Downloaded 0 out of 0 targeted series.\n",
      "0 failed to download.\n",
      "1 were previously downloaded.\n"
     ]
    }
   ],
   "source": [
    "#download and open ct image\n",
    "#retrieve nbia code from Cancer Imaging Archive\n",
    "cart_name = 'nbia-56681757219247422'\n",
    "\n",
    "#retrieve and download cart\n",
    "cart_data = nbia.getSharedCart(cart_name)\n",
    "df = nbia.downloadSeries(cart_data, format='df', path=datadir)"
   ]
  },
  {
   "cell_type": "code",
   "execution_count": 4,
   "id": "e4692b1d",
   "metadata": {},
   "outputs": [],
   "source": [
    "#variable to access cart data\n",
    "CT_folder = os.path.join(datadir, '1.3.6.1.4.1.14519.5.2.1.1078.3273.115340717073425311405719328936')"
   ]
  },
  {
   "cell_type": "code",
   "execution_count": 5,
   "id": "2b32d36a",
   "metadata": {},
   "outputs": [],
   "source": [
    "datadict = {'image' : CT_folder, 'other_key':46}"
   ]
  },
  {
   "cell_type": "code",
   "execution_count": 6,
   "id": "cce0239b",
   "metadata": {},
   "outputs": [],
   "source": [
    "preprocess_pipeline = Compose([\n",
    "    LoadImaged(keys='image',image_only=True), #load image\n",
    "    EnsureChannelFirstd(keys='image'), #add channel dimension\n",
    "    Orientationd(keys='image',axcodes='LPS') #reorient CT image so it's not flipped\n",
    "])"
   ]
  },
  {
   "cell_type": "code",
   "execution_count": 14,
   "id": "9e22702a",
   "metadata": {},
   "outputs": [
    {
     "name": "stderr",
     "output_type": "stream",
     "text": [
      "the directory: data\\1.3.6.1.4.1.14519.5.2.1.1078.3273.115340717073425311405719328936 contains more than one DICOM series.\n"
     ]
    }
   ],
   "source": [
    "CT = preprocess_pipeline(datadict)"
   ]
  },
  {
   "cell_type": "code",
   "execution_count": 16,
   "id": "1fe001e6",
   "metadata": {},
   "outputs": [
    {
     "data": {
      "text/plain": [
       "{'image': metatensor([[[[-1024., -1024., -1024.,  ..., -1024., -1024., -1024.],\n",
       "           [-1024., -1024., -1024.,  ..., -1024., -1024., -1024.],\n",
       "           [-1024., -1024., -1024.,  ..., -1024., -1024., -1024.],\n",
       "           ...,\n",
       "           [-1024., -1024., -1024.,  ..., -1024., -1024., -1024.],\n",
       "           [-1024., -1024., -1024.,  ..., -1024., -1024., -1024.],\n",
       "           [-1024., -1024., -1024.,  ..., -1024., -1024., -1024.]]]]),\n",
       " 'other_key': 46}"
      ]
     },
     "execution_count": 16,
     "metadata": {},
     "output_type": "execute_result"
    }
   ],
   "source": [
    "CT"
   ]
  }
 ],
 "metadata": {
  "kernelspec": {
   "display_name": "Python 3",
   "language": "python",
   "name": "python3"
  },
  "language_info": {
   "codemirror_mode": {
    "name": "ipython",
    "version": 3
   },
   "file_extension": ".py",
   "mimetype": "text/x-python",
   "name": "python",
   "nbconvert_exporter": "python",
   "pygments_lexer": "ipython3",
   "version": "3.13.3"
  }
 },
 "nbformat": 4,
 "nbformat_minor": 5
}
